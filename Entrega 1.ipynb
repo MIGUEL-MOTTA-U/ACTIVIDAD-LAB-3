{
 "cells": [
  {
   "cell_type": "markdown",
   "id": "f3afff5b-b5b3-4144-b490-e889131eeeb2",
   "metadata": {},
   "source": [
    "# SIMULE EL PRIMER SISTEMA CUÁNTICO DESCRITO EN LA SECCIÓN 4.1.\n",
    "### Miguel Angel Motta\n",
    "El sistema consiste en una partícula confinada a un conjunto discreto de posiciones en una línea. El simulador debe permitir especificar el número de posiciones y un vector ket de estado asignando las amplitudes.\n",
    "\n",
    "1. El sistema debe calcular la probabilidad de encontrarlo en una posición en particular.\n",
    "\n",
    "2. El sistema si se le da otro vector Ket debe buscar la probabilidad de transitar del primer vector al segundo.\n"
   ]
  },
  {
   "cell_type": "code",
   "execution_count": 99,
   "id": "1c7c3ca4-6000-41a9-ac5f-ad8647b3f720",
   "metadata": {},
   "outputs": [
    {
     "name": "stdout",
     "output_type": "stream",
     "text": [
      "\n",
      "Pruebas para el vector 1:\n",
      "\n",
      "0.11\n",
      "0.1055\n",
      "\n",
      "Pruebas para el vector 2:\n",
      "\n",
      "0.15\n",
      "0.1535\n",
      "\n",
      "Pruebas para el vector 3:\n",
      "\n",
      "0.11\n",
      "0.1096\n",
      "\n",
      "Pruebas para el vector 4:\n",
      "\n",
      "0.07\n",
      "0.0736\n",
      "\n",
      "Pruebas para el vector 5:\n",
      "\n",
      "0.01\n",
      "0.0075\n",
      "\n",
      "Pruebas para el vector 6:\n",
      "\n",
      "0.11\n",
      "0.1087\n",
      "\n",
      "Pruebas para el vector 7:\n",
      "\n",
      "0.2\n",
      "0.2009\n",
      "\n",
      "Pruebas para el vector 8:\n",
      "\n",
      "0.08\n",
      "0.0799\n",
      "\n",
      "Pruebas para el vector 9:\n",
      "\n",
      "0.06\n",
      "0.0622\n",
      "\n",
      "Pruebas para el vector 10:\n",
      "\n",
      "0.03\n",
      "0.0317\n"
     ]
    }
   ],
   "source": [
    "import numpy as np\n",
    "from random import randint as ran\n",
    "def calcular_probabilidad(vector, j):\n",
    "    \"\"\"\n",
    "    Esta función calcula la probabilidad de observar un estado en la posición j\n",
    "    del vector de estado.\n",
    "    \n",
    "    @param vector: vector de estado cuántico.\n",
    "    @param j: índice del estado del que se va a calcular la probabilidad.\n",
    "    @Returns: La probabilidad de observar el estado en la posición j.\n",
    "    \"\"\"\n",
    "\n",
    "    if j < 0 or j >= len(vector):\n",
    "        raise ValueError(\"El índice j está fuera del rango del vector\")\n",
    "    \n",
    "    numerador = np.abs(vector[j])**2\n",
    "    denominador = np.linalg.norm(vector)**2\n",
    "    if denominador == 0:\n",
    "        raise ValueError(\"Division por cero\")\n",
    "    return (numerador / denominador).item()\n",
    "def calcular_probabilidad_transicion(vector_a, j):\n",
    "    \"\"\"\n",
    "    Esta función calcula la probabilidad de transitar del primer vector ket al segundo.\n",
    "    @param vector_a: primer vector (ket a).\n",
    "    @param vector_b: segundo vector (ket b).\n",
    "    @Returns: La probabilidad de transitar del ket a al ket b.\n",
    "    \"\"\"\n",
    "    if j < 0 or j >= len(vector_a):\n",
    "        raise ValueError(\"El índice j está fuera del rango del vector\")\n",
    "    vector_b = np.array([(0 if i != j else vector_a[i].item()) for i in range(len(vector_a))])\n",
    "    \n",
    "    # Normalize\n",
    "    vector_b /= np.linalg.norm(vector_b)\n",
    "    vector_b = vector_b / np.linalg.norm(vector_b)\n",
    "    \n",
    "    vector_a /= np.linalg.norm(vector_a)\n",
    "    \n",
    "    producto_interno = np.vdot(vector_b, vector_a)\n",
    "    probabilidad = (np.abs(producto_interno))**2\n",
    "\n",
    "    return probabilidad.item()\n",
    "\n",
    "def main():\n",
    "    # Generar 10 vectores de longitud 10 con números complejos aleatorios\n",
    "    vectores = []\n",
    "    for _ in range(10):\n",
    "        vector = np.array([ran(-10, 10) + ran(-10, 10) * 1j for _ in range(10)])\n",
    "        vectores.append(vector)\n",
    "\n",
    "    # Probar las funciones y mostrar los resultados\n",
    "    for i, vector in enumerate(vectores):\n",
    "        print(f\"\\nPruebas para el vector {i + 1}:\\n\")\n",
    "        print(round(calcular_probabilidad(vector, j), 2))\n",
    "        print(round(calcular_probabilidad_transicion(vector, j), 4))\n",
    "if __name__ == \"__main__\":\n",
    "    main()\n"
   ]
  },
  {
   "cell_type": "markdown",
   "id": "caa139e3-47d4-4eb5-bcc5-e586a7602d00",
   "metadata": {},
   "source": [
    "# COMPLETE LOS RETOS DE PROGRAMACIÓN DEL CAPÍTULO 4.\n",
    "1. Amplitud de transición. El sistema puede recibir dos vectores y calcular la probabilidad de transitar de el uno al otro después de hacer la observación\n",
    "\n",
    "2. Ahora con una matriz que describa un observable y un vector ket, el sistema revisa que la matriz sea hermitiana, y si lo es, calcula la media y la varianza del observable en el estado dado.\n",
    "\n",
    "3. El sistema calcula los valores propios del observable y la probabilidad de que el sistema transite a alguno de los vectores propios después de la observación.\n",
    "\n",
    "4. Se considera la dinámica del sistema. Ahora con una serie de matrices Un el sistema calcula el estado final a partir de un estado inicial."
   ]
  },
  {
   "cell_type": "markdown",
   "id": "0905f78b-42e2-4c33-81ab-081880020452",
   "metadata": {},
   "source": [
    "#\n",
    "### Solución\n",
    "1. Amplitud de transición. El sistema puede recibir dos vectores y calcular la probabilidad de transitar de el uno al otro después de hacer la observación"
   ]
  },
  {
   "cell_type": "code",
   "execution_count": 37,
   "id": "942edc60-aad3-4d69-bf05-6eadb40de7b9",
   "metadata": {},
   "outputs": [
    {
     "name": "stdout",
     "output_type": "stream",
     "text": [
      "--> Amplitud de Transición: 0j\n"
     ]
    }
   ],
   "source": [
    "import numpy as np\n",
    "def amplitud_transicion(v1, v2):\n",
    "    # Con la formula de \n",
    "    bra_v1 = np.conj(v1)\n",
    "    return np.dot(bra_v1, v2)\n",
    "v1 = np.array([1+1j, 1-1j])\n",
    "v2 = np.array([1-1j, 1+1j])\n",
    "print(\"--> Amplitud de Transición:\", amplitud_transicion(v1, v2))"
   ]
  },
  {
   "cell_type": "markdown",
   "id": "118ce31b-d503-478b-9472-7f0ef4ecfe47",
   "metadata": {},
   "source": [
    "#\n",
    "### 2. \n",
    "#### Ahora con una matriz que describa un observable y un vector ket, el sistema revisa que la matriz sea hermitiana, y si lo es, calcula la media y la varianza del observable en el estado dado.\n"
   ]
  },
  {
   "cell_type": "code",
   "execution_count": 71,
   "id": "9b79e9fa-8bd8-4257-935f-68e6c1fd16d1",
   "metadata": {},
   "outputs": [
    {
     "name": "stdout",
     "output_type": "stream",
     "text": [
      "MEDIA: 2.5\n",
      "VARIANZA ESTANDAR: 0.25\n"
     ]
    }
   ],
   "source": [
    "def punto_2(vectorr, ket):\n",
    "    if not np.allclose(vectorr, vectorr.conj().T):\n",
    "        return \"La matriz vectorr no es hermítica\"\n",
    "    media = np.dot(ket.conj().T, np.dot(vectorr, ket)).real\n",
    "    N_Ket = np.dot(vectorr, ket)\n",
    "    varianza = np.dot(ket.conj().T, np.dot(vectorr, N_Ket)).real - media ** 2\n",
    "    return media, varianza\n",
    "vectorO = np.array([[1, 1j], [-1j, 2]])  \n",
    "K = np.array([np.sqrt(2)/2, np.sqrt(2)/2j])\n",
    "M, V = punto_2(vectorO, K)\n",
    "print(\"MEDIA:\", round(M.item(), 2))\n",
    "print(\"VARIANZA ESTANDAR:\", V.item())"
   ]
  },
  {
   "cell_type": "markdown",
   "id": "7248e5d7-ac27-472e-a753-88b978afdb53",
   "metadata": {},
   "source": [
    "#\n",
    "### 3.\n",
    "#### El sistema calcula los valores propios del observable y la probabilidad de que el sistema transite a alguno de los vectores propios después de la observación."
   ]
  },
  {
   "cell_type": "code",
   "execution_count": 39,
   "id": "9651884c-5935-41ee-9dda-8c3fe5e98fd0",
   "metadata": {},
   "outputs": [
    {
     "name": "stdout",
     "output_type": "stream",
     "text": [
      "Valores propios del obServable: [0.38196601+0.j 2.61803399+0.j]\n",
      "Probabilidad de transición a cada vector propio: [[0.7236068 0.2763932]\n",
      " [0.2763932 0.7236068]]\n"
     ]
    }
   ],
   "source": [
    "def valores_propios_probabilidad_transicion(matriz_observable):\n",
    "    valores_propios, vectores_propios = np.linalg.eig(matriz_observable)\n",
    "    probabilidades_transicion = np.abs(vectores_propios) ** 2\n",
    "    return valores_propios, probabilidades_transicion\n",
    "\n",
    "valores_propios, probabilidades_transicion = valores_propios_probabilidad_transicion(matriz_observable)\n",
    "print(\"Valores propios del obServable:\", valores_propios)\n",
    "print(\"Probabilidad de transición a cada vector propio:\", probabilidades_transicion)"
   ]
  },
  {
   "cell_type": "markdown",
   "id": "9dbdad77-97ac-41ed-aa7a-b5c4404c9191",
   "metadata": {},
   "source": [
    "#\n",
    "### 4. \n",
    "#### Se considera la dinámica del sistema. Ahora con una serie de matrices Un el sistema calcula el estado final a partir de un estado inicial."
   ]
  },
  {
   "cell_type": "code",
   "execution_count": 45,
   "id": "0b854106-3c70-4cc8-9b33-1fbba1278087",
   "metadata": {},
   "outputs": [
    {
     "name": "stdout",
     "output_type": "stream",
     "text": [
      "Respuesta: [0 1]\n"
     ]
    }
   ],
   "source": [
    "def dinamica_sistema(matrices_Un, estado_inicial):\n",
    "    estado_final = estado_inicial\n",
    "    for matriz in matrices_Un:\n",
    "        estado_final = np.dot(matriz, estado_final)\n",
    "    return estado_final\n",
    "\n",
    "matrices_Un = [np.array([[1, 0], [0, 1]]), np.array([[0, 1], [1, 0]])]\n",
    "estado_inicial = np.array([1, 0])\n",
    "estado_final = dinamica_sistema(matrices_Un, estado_inicial)\n",
    "print(\"Respuesta:\", estado_final)\n"
   ]
  },
  {
   "attachments": {
    "1d900347-b332-42b0-a61d-5bb523431505.png": {
     "image/png": "[encoded data removed]"
    }
   },
   "cell_type": "markdown",
   "id": "2ea41e91-3394-460c-b920-c7c4252ec14d",
   "metadata": {},
   "source": [
    "# REALICE LOS SIGUIENTES PROBLEMAS E INCLUYALOS COMO EJEMPLOS\n",
    "## Modele en su librería los problemas\n",
    "### 4.3.1\n",
    "    Encuentre todos los estados posibles del sistema descrito en el Ejercicio 4.2.2 puede realizar la transición después de que se haya realizado una medición.\n",
    "![4-2-2.png](attachment:1d900347-b332-42b0-a61d-5bb523431505.png)\n"
   ]
  },
  {
   "cell_type": "code",
   "execution_count": 58,
   "id": "5aa4a18f-5558-4e84-82b9-251de5586a81",
   "metadata": {
    "scrolled": true
   },
   "outputs": [
    {
     "name": "stdout",
     "output_type": "stream",
     "text": [
      "Estados posibles después de la medición:\n",
      "Estado 1: [0 1]\n",
      "\n",
      "\n"
     ]
    }
   ],
   "source": [
    "import numpy as np\n",
    "\n",
    "def aplicar_operador_Sx(estado):\n",
    "    operador_Sx = np.array([[0, 1], [1, 0]]) \n",
    "    return np.dot(operador_Sx, estado)\n",
    "\n",
    "def estados_posibles_despues_medicion():\n",
    "    estado_inicial = np.array([1, 0])  # Estado inicial |↑⟩\n",
    "    resultado_medicion = np.random.choice([0, 1], p=[1, 0])  \n",
    "    if resultado_medicion == 0:\n",
    "        return [np.array([0, 1])]  \n",
    "        estado_despues_Sx = aplicar_operador_Sx(estado_inicial)\n",
    "        return [estado_despues_Sx]  \n",
    "posibles_estados = estados_posibles_despues_medicion()\n",
    "\n",
    "print(\"Estados posibles después de la medición:\") \n",
    "for i, estado in enumerate(posibles_estados):\n",
    "    print(f\"Estado {i+1}: {estado}\")\n",
    "print(\"\\n\")\n",
    "\n",
    "#/////////////////////////////\n",
    "import numpy as np\n",
    "\n",
    "def calculateS(estado):\n",
    "    operador_Sx = np.array([[0, 1], [1, 0]]) \n",
    "    return np.dot(operador_Sx, estado)\n",
    "\n",
    "def CalculateStates():\n",
    "    e0 = np.array([1, 0])  # Estado inicial |↑⟩\n",
    "    result = np.random.choice([0, 1], p=[1, 0])  \n",
    "    if result == 0:\n",
    "        return [np.array([0, 1])]  \n",
    "        newState = calculateS(e0)\n",
    "        return [newState]  \n",
    "posibles_estados = CalculateStates()\n",
    "\n",
    "print(\"Estados posibles después de la medición:\") \n",
    "for i, estado in enumerate(posibles_estados):\n",
    "    print(f\"Estado {i+1}: {estado}\")\n",
    "print(\"\\n\")\n"
   ]
  },
  {
   "cell_type": "markdown",
   "id": "c18351a1-dbe2-419b-bbb3-29b40716556e",
   "metadata": {},
   "source": [
    "#\n",
    "### 4.3.2\n",
    "    Realice los mismos cálculos que en el último ejemplo, utilizando el Ejercicio   4.3.1. Luego dibuje la distribución de probabilidad de los valores propios como en el ejemplo anterior."
   ]
  },
  {
   "cell_type": "code",
   "execution_count": 84,
   "id": "1cf72a84-af46-4895-859a-099aabfd10d7",
   "metadata": {},
   "outputs": [
    {
     "name": "stdout",
     "output_type": "stream",
     "text": [
      "Probabilidad p1: 0.5\n",
      "Probabilidad p2: 0.5\n",
      "Valor medio: 0.0\n"
     ]
    },
    {
     "data": {
      "image/png": "[encoded data removed]",
      "text/plain": [
       "<Figure size 640x480 with 1 Axes>"
      ]
     },
     "metadata": {},
     "output_type": "display_data"
    }
   ],
   "source": [
    "import numpy as np\n",
    "import matplotlib.pyplot as plt\n",
    "\n",
    "def calcular_probabilidad(eigenvector):\n",
    "    return np.linalg.norm(eigenvector) ** 2  /2\n",
    "\n",
    "def calcular_valor_medio(eigenvalues, probabilities):\n",
    "    return sum(prob * eig_val for prob, eig_val in zip(probabilities, eigenvalues))\n",
    "\n",
    "# Definición de los eigenvectores y eigenvalores\n",
    "eigenvector1 = np.array([1, 0])\n",
    "eigenvector2 = np.array([0, 1])\n",
    "lambda1 = 1\n",
    "lambda2 = -1\n",
    "\n",
    "# Cálculo de las probabilidades\n",
    "p1 = calcular_probabilidad(eigenvector1)\n",
    "p2 = calcular_probabilidad(eigenvector2)\n",
    "\n",
    "# Cálculo del valor medio\n",
    "valor_medio = calcular_valor_medio([lambda1, lambda2], [p1, p2])\n",
    "\n",
    "\n",
    "# Imprimir resultados\n",
    "print(\"Probabilidad p1:\", p1)\n",
    "print(\"Probabilidad p2:\", p2)\n",
    "print(\"Valor medio:\", valor_medio)\n",
    "\n",
    "# Dibujar la distribución de probabilidad\n",
    "eigenvalues = [lambda1, lambda2]\n",
    "probabilities = [p1, p2]\n",
    "\n",
    "plt.bar(eigenvalues, probabilities, color=['orange', 'green'])\n",
    "plt.xlabel('Eigenvalues')\n",
    "plt.ylabel('Probability')\n",
    "plt.title('Probability Distribution of Eigenvalues')\n",
    "plt.show()\n"
   ]
  },
  {
   "attachments": {
    "29cde9ed-3a61-4215-b2f7-f6bea9f832ac.png": {
     "image/png": "[encoded data removed]"
    }
   },
   "cell_type": "markdown",
   "id": "30728836-eb8d-4226-9d5f-9459456d55dd",
   "metadata": {},
   "source": [
    "\n",
    "    \n",
    "\n",
    "### 4.4.1\n",
    "    Compruebe que:\n",
    "![4-4-1.png](attachment:29cde9ed-3a61-4215-b2f7-f6bea9f832ac.png)\n",
    "\n"
   ]
  },
  {
   "cell_type": "code",
   "execution_count": 76,
   "id": "ce5aae4b-5718-4a62-abc5-ac15de1e3da8",
   "metadata": {},
   "outputs": [
    {
     "name": "stdout",
     "output_type": "stream",
     "text": [
      "M 1 Unitaria True\n",
      "M2 Unitaria True\n",
      "Producto UNITARIO: True\n"
     ]
    }
   ],
   "source": [
    "def punto_4(matriz):\n",
    "    if matriz.shape[0] != matriz.shape[1]:\n",
    "        return False\n",
    "    identity = np.eye(matriz.shape[0])\n",
    "    product = np.dot(matriz, matriz.conj().T)\n",
    "    return np.allclose(product, identity)\n",
    "    \n",
    "M1 = np.array([[0, 1], [1, 0]])\n",
    "M2 = np.array([[np.sqrt(2)/2, np.sqrt(2)/2],\n",
    "               [np.sqrt(2)/2,-np.sqrt(2)/2]])\n",
    "result= np.dot(M1,M2)\n",
    "print(\"M 1 Unitaria\", punto_4(M1))\n",
    "print(\"M2 Unitaria\", punto_4(M2))\n",
    "print(\"Producto UNITARIO:\", punto_4(result))"
   ]
  },
  {
   "attachments": {
    "614c9787-50d1-4011-b0b3-86c690b65df5.png": {
     "image/png": "[encoded data removed]"
    }
   },
   "cell_type": "markdown",
   "id": "38ecccf1-c39f-47ee-9e25-19479969e723",
   "metadata": {},
   "source": [
    "### 4.4.2\n",
    "    Vuelva al Ejemplo 3.3.2 (bola de billar cuántica), mantenga lo mismo vector de estado inicial [1, 0, 0, 0]T, pero cambie el mapa unitario a:\n",
    "![4-4-2.png](attachment:614c9787-50d1-4011-b0b3-86c690b65df5.png)\n",
    "\n",
    "    Determine el estado del sistema después de tres pasos de tiempo. ¿Cuál es la posibilidad de la bola cuántica que se encuentra en el punto 3"
   ]
  },
  {
   "cell_type": "code",
   "execution_count": 91,
   "id": "3b55f6fc-ebbd-4aa4-92ce-0cdf9b48bf33",
   "metadata": {},
   "outputs": [
    {
     "name": "stdout",
     "output_type": "stream",
     "text": [
      "Resultado después de tres clics:\n",
      "\n",
      "0j\n",
      "(-0.7071067811865474+0.7071067811865474j)\n",
      "0j\n",
      "0j\n",
      "\n",
      "La probabilidad de la bola cuántica en el punto 3 es:\n",
      " [0.]\n"
     ]
    }
   ],
   "source": [
    "import numpy as np\n",
    "\n",
    "def calcular_probabilidad(click, estado_deseado):\n",
    "    norma = np.linalg.norm(click)\n",
    "    probabilidad = np.abs(click[estado_deseado]) ** 2 / (norma ** 2)\n",
    "    return probabilidad\n",
    "def realizar_clics(m1, v1, num_clics):\n",
    "    estado_actual = v1\n",
    "    for _ in range(num_clics):\n",
    "        estado_actual = np.dot(m1, estado_actual)\n",
    "    return estado_actual\n",
    "m1 = np.array([[0, 1/np.sqrt(2), 1/np.sqrt(2), 0], \n",
    "               [1j/np.sqrt(2), 0, 0, 1/np.sqrt(2)], \n",
    "               [1/np.sqrt(2), 0, 0, 1j/np.sqrt(2)],\n",
    "               [0, 1/np.sqrt(2), -1/np.sqrt(2), 0]])\n",
    "v1 = np.array([[1], [0], [0], [0]])\n",
    "click3 = realizar_clics(m1, v1, 3)\n",
    "print(\"Resultado después de tres clics:\\n\")\n",
    "for j in click3:\n",
    "    print(j.item())\n",
    "probabilidad_punto3 = calcular_probabilidad(click3, 2)  # El punto 3 corresponde al tercer índice en Python (índice 2)\n",
    "print(\"\\nLa probabilidad de la bola cuántica en el punto 3 es:\\n\", probabilidad_punto3)\n"
   ]
  },
  {
   "cell_type": "markdown",
   "id": "48d9ad35-29ae-4d08-88db-a48f4e05e52f",
   "metadata": {},
   "source": [
    "#\n",
    "### El Entrelazamiento Cuántico y su Impacto en la Interpretación de la Realidad\n",
    "\n",
    "El entrelazamiento cuántico, como se describe por la mecánica cuántica, plantea interrogantes profundos sobre la naturaleza misma de la realidad y la relación entre las partículas cuánticas. El entrelazamiento implica una relación instantánea y no local entre las propiedades de partículas separadas a distancias arbitrarias. Pero cómo puede ser esto, ya que físicamente es inconsevible y los seres humanos hemos basado nuestro conocimiento en la experimentación, pero hemos llegado a un punto que raya los límites de la realidad observable  ¿Cómo reconciliamos este fenómeno con nuestra comprensión clásica del mundo?\n",
    "\n",
    "#### Descripción del Entrelazamiento Cuántico\n",
    "\n",
    "El entrelazamiento cuántico se manifiesta cuando el estado de un sistema compuesto no puede ser descrito independientemente por los estados de sus componentes individuales. Tomemos, por ejemplo, el siguiente estado entrelazado de dos partículas:\n",
    "\n",
    "$\n",
    "|\\psi\\rangle = |x_0\\rangle \\otimes |y_0\\rangle + |x_1\\rangle \\otimes |y_1\\rangle\n",
    "$\n",
    "\n",
    "Este estado representa una superposición de dos estados separados, $(|x_0\\rangle \\otimes |y_0\\rangle y |x_1\\rangle \\otimes |y_1\\rangle$, donde las partículas $x\\) y \n",
    "(y$ están entrelazadas de alguna manera.\n",
    "\n",
    "#### Implicación Existencial\n",
    "\n",
    "1. **La Realidad No Local**: El entrelazamiento cuántico desafía nuestra comprensión clásica de la realidad al sugerir que las partículas pueden influenciarse instantáneamente a distancias arbitrarias, violando la noción de la realidad como la conocemos, deformando todo aquello que era familiar a nuestro entendimiento.\n",
    "\n",
    "2. **Aplicaciones en Tecnología Cuántica**: Aunque el entrelazamiento plantea desafíos para nuestra intuición clásica, también es la base de tecnologías cuánticas prometedoras, como la criptografía cuántica y la teleportación cuántica. Aunque esto, más parece una fantasía, la criptografía se ha visto fuertemente amenazada por la capacidad de las computadoras cuánticas de descifrar contraseñas descomponiendo sus direcciones de factores primos. La solución estandarizada a este problema es con la implementación de vectores de 3 dimensiones con aproximaciones para guardar y proteger la información de nuestras contraseñas.\n",
    "\n",
    "3. **Interpretaciones de la Mecánica Cuántica**: El entrelazamiento cuántico ha llevado a una variedad de interpretaciones de la mecánica cuántica, desde la interpretación de Copenhague hasta la teoría de los muchos mundos. ¿Cuál ofrece la mejor descripción de la realidad?\n",
    "\n",
    "#### Preguntas para Reflexionar\n",
    "\n",
    "- ¿Cómo podemos reconciliar el entrelazamiento cuántico con nuestra comprensión clásica del espacio y el tiempo?\n",
    "- ¿Qué implicaciones tiene el entrelazamiento cuántico para nuestra comprensión de la información y la computación?\n",
    "\n",
    "El entrelazamiento cuántico es facinante, desafiante y en muchas formas, un misterio, puesto que no hemos podido comprobar a ciencia cierta muchas características que el entrelazamiento cuántico presenta, pero es cuestión de tiempo para que descubramos los límites de la realidad que representa el universo cuántico.\n"
   ]
  },
  {
   "cell_type": "code",
   "execution_count": null,
   "id": "7b91322f-f09c-4fc0-9b18-4ff0a88acb8f",
   "metadata": {},
   "outputs": [],
   "source": []
  }
 ],
 "metadata": {
  "kernelspec": {
   "display_name": "Python 3 (ipykernel)",
   "language": "python",
   "name": "python3"
  },
  "language_info": {
   "codemirror_mode": {
    "name": "ipython",
    "version": 3
   },
   "file_extension": ".py",
   "mimetype": "text/x-python",
   "name": "python",
   "nbconvert_exporter": "python",
   "pygments_lexer": "ipython3",
   "version": "3.12.0"
  }
 },
 "nbformat": 4,
 "nbformat_minor": 5
}
