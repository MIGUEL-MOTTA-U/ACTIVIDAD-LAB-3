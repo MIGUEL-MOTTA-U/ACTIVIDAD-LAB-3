{
 "cells": [
  {
   "cell_type": "markdown",
   "id": "f3afff5b-b5b3-4144-b490-e889131eeeb2",
   "metadata": {},
   "source": [
    "# SIMULE EL PRIMER SISTEMA CUÁNTICO DESCRITO EN LA SECCIÓN 4.1.\n",
    "### Miguel Angel Motta\n",
    "El sistema consiste en una partícula confinada a un conjunto discreto de posiciones en una línea. El simulador debe permitir especificar el número de posiciones y un vector ket de estado asignando las amplitudes.\n",
    "\n",
    "1. El sistema debe calcular la probabilidad de encontrarlo en una posición en particular.\n",
    "\n",
    "2. El sistema si se le da otro vector Ket debe buscar la probabilidad de transitar del primer vector al segundo.\n"
   ]
  },
  {
   "cell_type": "code",
   "execution_count": 99,
   "id": "1c7c3ca4-6000-41a9-ac5f-ad8647b3f720",
   "metadata": {},
   "outputs": [
    {
     "name": "stdout",
     "output_type": "stream",
     "text": [
      "\n",
      "Pruebas para el vector 1:\n",
      "\n",
      "0.11\n",
      "0.1055\n",
      "\n",
      "Pruebas para el vector 2:\n",
      "\n",
      "0.15\n",
      "0.1535\n",
      "\n",
      "Pruebas para el vector 3:\n",
      "\n",
      "0.11\n",
      "0.1096\n",
      "\n",
      "Pruebas para el vector 4:\n",
      "\n",
      "0.07\n",
      "0.0736\n",
      "\n",
      "Pruebas para el vector 5:\n",
      "\n",
      "0.01\n",
      "0.0075\n",
      "\n",
      "Pruebas para el vector 6:\n",
      "\n",
      "0.11\n",
      "0.1087\n",
      "\n",
      "Pruebas para el vector 7:\n",
      "\n",
      "0.2\n",
      "0.2009\n",
      "\n",
      "Pruebas para el vector 8:\n",
      "\n",
      "0.08\n",
      "0.0799\n",
      "\n",
      "Pruebas para el vector 9:\n",
      "\n",
      "0.06\n",
      "0.0622\n",
      "\n",
      "Pruebas para el vector 10:\n",
      "\n",
      "0.03\n",
      "0.0317\n"
     ]
    }
   ],
   "source": [
    "import numpy as np\n",
    "from random import randint as ran\n",
    "def calcular_probabilidad(vector, j):\n",
    "    \"\"\"\n",
    "    Esta función calcula la probabilidad de observar un estado en la posición j\n",
    "    del vector de estado.\n",
    "    \n",
    "    @param vector: vector de estado cuántico.\n",
    "    @param j: índice del estado del que se va a calcular la probabilidad.\n",
    "    @Returns: La probabilidad de observar el estado en la posición j.\n",
    "    \"\"\"\n",
    "\n",
    "    if j < 0 or j >= len(vector):\n",
    "        raise ValueError(\"El índice j está fuera del rango del vector\")\n",
    "    \n",
    "    numerador = np.abs(vector[j])**2\n",
    "    denominador = np.linalg.norm(vector)**2\n",
    "    if denominador == 0:\n",
    "        raise ValueError(\"Division por cero\")\n",
    "    return (numerador / denominador).item()\n",
    "def calcular_probabilidad_transicion(vector_a, j):\n",
    "    \"\"\"\n",
    "    Esta función calcula la probabilidad de transitar del primer vector ket al segundo.\n",
    "    @param vector_a: primer vector (ket a).\n",
    "    @param vector_b: segundo vector (ket b).\n",
    "    @Returns: La probabilidad de transitar del ket a al ket b.\n",
    "    \"\"\"\n",
    "    if j < 0 or j >= len(vector_a):\n",
    "        raise ValueError(\"El índice j está fuera del rango del vector\")\n",
    "    vector_b = np.array([(0 if i != j else vector_a[i].item()) for i in range(len(vector_a))])\n",
    "    \n",
    "    # Normalize\n",
    "    vector_b /= np.linalg.norm(vector_b)\n",
    "    vector_b = vector_b / np.linalg.norm(vector_b)\n",
    "    \n",
    "    vector_a /= np.linalg.norm(vector_a)\n",
    "    \n",
    "    producto_interno = np.vdot(vector_b, vector_a)\n",
    "    probabilidad = (np.abs(producto_interno))**2\n",
    "\n",
    "    return probabilidad.item()\n",
    "\n",
    "def main():\n",
    "    # Generar 10 vectores de longitud 10 con números complejos aleatorios\n",
    "    vectores = []\n",
    "    for _ in range(10):\n",
    "        vector = np.array([ran(-10, 10) + ran(-10, 10) * 1j for _ in range(10)])\n",
    "        vectores.append(vector)\n",
    "\n",
    "    # Probar las funciones y mostrar los resultados\n",
    "    for i, vector in enumerate(vectores):\n",
    "        print(f\"\\nPruebas para el vector {i + 1}:\\n\")\n",
    "        print(round(calcular_probabilidad(vector, j), 2))\n",
    "        print(round(calcular_probabilidad_transicion(vector, j), 4))\n",
    "if __name__ == \"__main__\":\n",
    "    main()\n"
   ]
  },
  {
   "cell_type": "markdown",
   "id": "caa139e3-47d4-4eb5-bcc5-e586a7602d00",
   "metadata": {},
   "source": [
    "# COMPLETE LOS RETOS DE PROGRAMACIÓN DEL CAPÍTULO 4.\n",
    "1. Amplitud de transición. El sistema puede recibir dos vectores y calcular la probabilidad de transitar de el uno al otro después de hacer la observación\n",
    "\n",
    "2. Ahora con una matriz que describa un observable y un vector ket, el sistema revisa que la matriz sea hermitiana, y si lo es, calcula la media y la varianza del observable en el estado dado.\n",
    "\n",
    "3. El sistema calcula los valores propios del observable y la probabilidad de que el sistema transite a alguno de los vectores propios después de la observación.\n",
    "\n",
    "4. Se considera la dinámica del sistema. Ahora con una serie de matrices Un el sistema calcula el estado final a partir de un estado inicial."
   ]
  },
  {
   "cell_type": "markdown",
   "id": "0905f78b-42e2-4c33-81ab-081880020452",
   "metadata": {},
   "source": [
    "### Solución\n",
    "1. Amplitud de transición. El sistema puede recibir dos vectores y calcular la probabilidad de transitar de el uno al otro después de hacer la observación"
   ]
  },
  {
   "cell_type": "code",
   "execution_count": 37,
   "id": "942edc60-aad3-4d69-bf05-6eadb40de7b9",
   "metadata": {},
   "outputs": [
    {
     "name": "stdout",
     "output_type": "stream",
     "text": [
      "--> Amplitud de Transición: 0j\n"
     ]
    }
   ],
   "source": [
    "import numpy as np\n",
    "def amplitud_transicion(v1, v2):\n",
    "    # Con la formula de \n",
    "    bra_v1 = np.conj(v1)\n",
    "    return np.dot(bra_v1, v2)\n",
    "v1 = np.array([1+1j, 1-1j])\n",
    "v2 = np.array([1-1j, 1+1j])\n",
    "print(\"--> Amplitud de Transición:\", amplitud_transicion(v1, v2))"
   ]
  },
  {
   "cell_type": "markdown",
   "id": "118ce31b-d503-478b-9472-7f0ef4ecfe47",
   "metadata": {},
   "source": [
    "#\n",
    "### 2. \n",
    "#### Ahora con una matriz que describa un observable y un vector ket, el sistema revisa que la matriz sea hermitiana, y si lo es, calcula la media y la varianza del observable en el estado dado.\n"
   ]
  },
  {
   "cell_type": "code",
   "execution_count": 38,
   "id": "9b79e9fa-8bd8-4257-935f-68e6c1fd16d1",
   "metadata": {},
   "outputs": [
    {
     "name": "stdout",
     "output_type": "stream",
     "text": [
      "La Media Observable es: (1+0j)\n",
      "La varianza calculaada es: 0j\n"
     ]
    }
   ],
   "source": [
    "def media_varianza_observable(matriz_observable, ket):\n",
    "    if not np.allclose(matriz_observable, matriz_observable.conj().T):\n",
    "        raise ValueError(\"La matriz observable no es hermitiana.\")\n",
    "    media = np.dot(np.conj(ket), np.dot(matriz_observable, ket))\n",
    "    varianza = np.dot(np.conj(ket), np.dot(matriz_observable ** 2, ket)) - media ** 2\n",
    "    return media, varianza\n",
    "\n",
    "matriz_observable = np.array([[1, 1j], [-1j, 2]])\n",
    "ket = np.array([1, 0])\n",
    "media, varianza = media_varianza_observable(matriz_observable, ket)\n",
    "print(\"La Media Observable es:\", media)\n",
    "print(\"La varianza calculaada es:\", varianza)"
   ]
  },
  {
   "cell_type": "markdown",
   "id": "7248e5d7-ac27-472e-a753-88b978afdb53",
   "metadata": {},
   "source": [
    "\n",
    "### 3.\n",
    "#### El sistema calcula los valores propios del observable y la probabilidad de que el sistema transite a alguno de los vectores propios después de la observación."
   ]
  },
  {
   "cell_type": "code",
   "execution_count": 39,
   "id": "9651884c-5935-41ee-9dda-8c3fe5e98fd0",
   "metadata": {},
   "outputs": [
    {
     "name": "stdout",
     "output_type": "stream",
     "text": [
      "Valores propios del obServable: [0.38196601+0.j 2.61803399+0.j]\n",
      "Probabilidad de transición a cada vector propio: [[0.7236068 0.2763932]\n",
      " [0.2763932 0.7236068]]\n"
     ]
    }
   ],
   "source": [
    "def valores_propios_probabilidad_transicion(matriz_observable):\n",
    "    valores_propios, vectores_propios = np.linalg.eig(matriz_observable)\n",
    "    probabilidades_transicion = np.abs(vectores_propios) ** 2\n",
    "    return valores_propios, probabilidades_transicion\n",
    "\n",
    "valores_propios, probabilidades_transicion = valores_propios_probabilidad_transicion(matriz_observable)\n",
    "print(\"Valores propios del obServable:\", valores_propios)\n",
    "print(\"Probabilidad de transición a cada vector propio:\", probabilidades_transicion)"
   ]
  },
  {
   "cell_type": "markdown",
   "id": "9dbdad77-97ac-41ed-aa7a-b5c4404c9191",
   "metadata": {},
   "source": [
    "### 4. \n",
    "#### Se considera la dinámica del sistema. Ahora con una serie de matrices Un el sistema calcula el estado final a partir de un estado inicial."
   ]
  },
  {
   "cell_type": "code",
   "execution_count": 43,
   "id": "0b854106-3c70-4cc8-9b33-1fbba1278087",
   "metadata": {},
   "outputs": [
    {
     "name": "stdout",
     "output_type": "stream",
     "text": [
      "Estado final del sistema: [0 1]\n"
     ]
    }
   ],
   "source": [
    "def dinamica_sistema(matrices_Un, estado_inicial):\n",
    "    estado_final = estado_inicial\n",
    "    for matriz in matrices_Un:\n",
    "        estado_final = np.dot(matriz, estado_final)\n",
    "    return estado_final\n",
    "\n",
    "matrices_Un = [np.array([[1, 0], [0, 1]]), np.array([[0, 1], [1, 0]])]\n",
    "estado_inicial = np.array([1, 0])\n",
    "estado_final = dinamica_sistema(matrices_Un, estado_inicial)\n",
    "print(\"Estado final del sistema:\", estado_final)\n"
   ]
  },
  {
   "cell_type": "code",
   "execution_count": null,
   "id": "96ccb5d2-cc7f-432c-9527-c98a40992b6b",
   "metadata": {},
   "outputs": [],
   "source": []
  }
 ],
 "metadata": {
  "kernelspec": {
   "display_name": "Python 3 (ipykernel)",
   "language": "python",
   "name": "python3"
  },
  "language_info": {
   "codemirror_mode": {
    "name": "ipython",
    "version": 3
   },
   "file_extension": ".py",
   "mimetype": "text/x-python",
   "name": "python",
   "nbconvert_exporter": "python",
   "pygments_lexer": "ipython3",
   "version": "3.11.5"
  }
 },
 "nbformat": 4,
 "nbformat_minor": 5
}
